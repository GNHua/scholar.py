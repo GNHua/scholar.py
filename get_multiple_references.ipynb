{
 "cells": [
  {
   "cell_type": "code",
   "execution_count": null,
   "metadata": {
    "collapsed": true
   },
   "outputs": [],
   "source": [
    "from scholar import ScholarQuerier, ScholarSettings, SearchScholarQuery, ScholarConf"
   ]
  },
  {
   "cell_type": "markdown",
   "metadata": {},
   "source": [
    "Use paper title to get BibTex citation"
   ]
  },
  {
   "cell_type": "code",
   "execution_count": null,
   "metadata": {
    "collapsed": false
   },
   "outputs": [],
   "source": [
    "querier = ScholarQuerier()\n",
    "settings = ScholarSettings()\n",
    "settings.set_citation_format(ScholarSettings.CITFORM_BIBTEX)\n",
    "querier.apply_settings(settings)\n",
    "\n",
    "query = SearchScholarQuery()\n",
    "query.set_num_page_results(min(1, ScholarConf.MAX_PAGE_RESULTS))\n",
    "\n",
    "def get_citation(titles):\n",
    "    '''Take a list of titles and return BibTex citation.'''\n",
    "    for title in titles:\n",
    "        query.set_phrase(title)\n",
    "        querier.send_query(query)\n",
    "        try:\n",
    "            yield querier.articles[0].as_citation().decode() + '\\n'\n",
    "        except IndexError:\n",
    "            print('NOT FOUND:\\n\\t', title)"
   ]
  },
  {
   "cell_type": "code",
   "execution_count": null,
   "metadata": {
    "collapsed": true
   },
   "outputs": [],
   "source": [
    "titles = [\n",
    "    'High density 3D printed microfluidic valves, pumps, and multiplexers',\n",
    "    'Optical approach to resin formulation for 3D printed microfluidics'\n",
    "]"
   ]
  },
  {
   "cell_type": "code",
   "execution_count": null,
   "metadata": {
    "collapsed": false,
    "scrolled": false
   },
   "outputs": [],
   "source": [
    "with open('ref.bib', 'w') as f:\n",
    "    for c in get_citation(titles):\n",
    "        f.write(c)\n",
    "    f.truncate()"
   ]
  },
  {
   "cell_type": "code",
   "execution_count": null,
   "metadata": {
    "collapsed": true
   },
   "outputs": [],
   "source": []
  }
 ],
 "metadata": {
  "anaconda-cloud": {},
  "kernelspec": {
   "display_name": "Python [conda root]",
   "language": "python",
   "name": "conda-root-py"
  },
  "language_info": {
   "codemirror_mode": {
    "name": "ipython",
    "version": 3
   },
   "file_extension": ".py",
   "mimetype": "text/x-python",
   "name": "python",
   "nbconvert_exporter": "python",
   "pygments_lexer": "ipython3",
   "version": "3.5.3"
  },
  "toc": {
   "colors": {
    "hover_highlight": "#DAA520",
    "running_highlight": "#FF0000",
    "selected_highlight": "#FFD700"
   },
   "moveMenuLeft": true,
   "nav_menu": {
    "height": "12px",
    "width": "252px"
   },
   "navigate_menu": true,
   "number_sections": true,
   "sideBar": true,
   "threshold": 4,
   "toc_cell": false,
   "toc_section_display": "block",
   "toc_window_display": false,
   "widenNotebook": false
  }
 },
 "nbformat": 4,
 "nbformat_minor": 2
}
