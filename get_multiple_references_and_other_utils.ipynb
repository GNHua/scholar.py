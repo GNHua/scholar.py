{
 "cells": [
  {
   "cell_type": "markdown",
   "metadata": {
    "deletable": true,
    "editable": true
   },
   "source": [
    "# Get multiple references"
   ]
  },
  {
   "cell_type": "code",
   "execution_count": 1,
   "metadata": {
    "collapsed": true,
    "deletable": true,
    "editable": true
   },
   "outputs": [],
   "source": [
    "from scholar import ScholarQuerier, ScholarSettings, SearchScholarQuery, ScholarConf"
   ]
  },
  {
   "cell_type": "markdown",
   "metadata": {
    "deletable": true,
    "editable": true
   },
   "source": [
    "Use paper title to get BibTex citation"
   ]
  },
  {
   "cell_type": "code",
   "execution_count": 2,
   "metadata": {
    "collapsed": false,
    "deletable": true,
    "editable": true
   },
   "outputs": [],
   "source": [
    "querier = ScholarQuerier()\n",
    "settings = ScholarSettings()\n",
    "settings.set_citation_format(ScholarSettings.CITFORM_BIBTEX)\n",
    "querier.apply_settings(settings)\n",
    "\n",
    "query = SearchScholarQuery()\n",
    "query.set_num_page_results(min(1, ScholarConf.MAX_PAGE_RESULTS))\n",
    "\n",
    "def get_citation(titles):\n",
    "    '''Take a list of titles and return BibTex citation.'''\n",
    "    for title in titles:\n",
    "        query.set_phrase(title)\n",
    "        querier.send_query(query)\n",
    "        try:\n",
    "            yield querier.articles[0].as_citation().decode() + '\\n'\n",
    "        except IndexError:\n",
    "            print('NOT FOUND:\\n\\t', title)"
   ]
  },
  {
   "cell_type": "code",
   "execution_count": 3,
   "metadata": {
    "collapsed": true,
    "deletable": true,
    "editable": true
   },
   "outputs": [],
   "source": [
    "titles = [\n",
    "    'High density 3D printed microfluidic valves, pumps, and multiplexers',\n",
    "    'Optical approach to resin formulation for 3D printed microfluidics'\n",
    "]"
   ]
  },
  {
   "cell_type": "code",
   "execution_count": 4,
   "metadata": {
    "collapsed": false,
    "deletable": true,
    "editable": true,
    "scrolled": false
   },
   "outputs": [
    {
     "name": "stdout",
     "output_type": "stream",
     "text": [
      "@article{gong2016high,\n",
      "  title={High density 3D printed microfluidic valves, pumps, and multiplexers},\n",
      "  author={Gong, Hua and Woolley, Adam T and Nordin, Gregory P},\n",
      "  journal={Lab on a Chip},\n",
      "  volume={16},\n",
      "  number={13},\n",
      "  pages={2450--2458},\n",
      "  year={2016},\n",
      "  publisher={Royal Society of Chemistry}\n",
      "}\n",
      "\n",
      "\n",
      "@article{gong2015optical,\n",
      "  title={Optical approach to resin formulation for 3D printed microfluidics},\n",
      "  author={Gong, Hua and Beauchamp, Michael and Perry, Steven and Woolley, Adam T and Nordin, Gregory P},\n",
      "  journal={RSC advances},\n",
      "  volume={5},\n",
      "  number={129},\n",
      "  pages={106621--106632},\n",
      "  year={2015},\n",
      "  publisher={Royal Society of Chemistry}\n",
      "}\n",
      "\n",
      "\n"
     ]
    }
   ],
   "source": [
    "for c in get_citation(titles):\n",
    "    print(c)"
   ]
  },
  {
   "cell_type": "markdown",
   "metadata": {
    "deletable": true,
    "editable": true
   },
   "source": [
    "# How to use `bibtexparser`"
   ]
  },
  {
   "cell_type": "markdown",
   "metadata": {},
   "source": [
    "`$ pip install bibtexparser`"
   ]
  },
  {
   "cell_type": "code",
   "execution_count": 5,
   "metadata": {
    "collapsed": true,
    "deletable": true,
    "editable": true
   },
   "outputs": [],
   "source": [
    "import bibtexparser"
   ]
  },
  {
   "cell_type": "markdown",
   "metadata": {
    "deletable": true,
    "editable": true
   },
   "source": [
    "## Load bibtex file"
   ]
  },
  {
   "cell_type": "code",
   "execution_count": 6,
   "metadata": {
    "collapsed": false,
    "deletable": true,
    "editable": true,
    "scrolled": false
   },
   "outputs": [],
   "source": [
    "with open('ref.bib') as bibtex_file:\n",
    "    bib_database = bibtexparser.load(bibtex_file)"
   ]
  },
  {
   "cell_type": "code",
   "execution_count": 7,
   "metadata": {
    "collapsed": false,
    "deletable": true,
    "editable": true
   },
   "outputs": [
    {
     "name": "stdout",
     "output_type": "stream",
     "text": [
      "High density 3D printed microfluidic valves, pumps, and multiplexers\n",
      "Optical approach to resin formulation for 3D printed microfluidics\n"
     ]
    }
   ],
   "source": [
    "for entry in bib_database.entries:\n",
    "    try:\n",
    "        print(entry['title'])\n",
    "    except KeyError:\n",
    "        print('>>>', entry)"
   ]
  },
  {
   "cell_type": "markdown",
   "metadata": {
    "deletable": true,
    "editable": true
   },
   "source": [
    "## Load bibtex string"
   ]
  },
  {
   "cell_type": "code",
   "execution_count": 8,
   "metadata": {
    "collapsed": false,
    "deletable": true,
    "editable": true,
    "scrolled": false
   },
   "outputs": [
    {
     "name": "stdout",
     "output_type": "stream",
     "text": [
      "@article{gong2016high,\n",
      "  title={High density 3D printed microfluidic valves, pumps, and multiplexers},\n",
      "  author={Gong, Hua and Woolley, Adam T and Nordin, Gregory P},\n",
      "  journal={Lab on a Chip},\n",
      "  volume={16},\n",
      "  number={13},\n",
      "  pages={2450--2458},\n",
      "  year={2016},\n",
      "  publisher={Royal Society of Chemistry}\n",
      "}\n",
      "\n",
      "@article{gong2015optical,\n",
      "  title={Optical approach to resin formulation for 3D printed microfluidics},\n",
      "  author={Gong, Hua and Beauchamp, Michael and Perry, Steven and Woolley, Adam T and Nordin, Gregory P},\n",
      "  journal={RSC advances},\n",
      "  volume={5},\n",
      "  number={129},\n",
      "  pages={106621--106632},\n",
      "  year={2015},\n",
      "  publisher={Royal Society of Chemistry}\n",
      "}\n",
      "\n",
      "\n"
     ]
    }
   ],
   "source": [
    "bibtex_str = ''\n",
    "for c in get_citation(titles):\n",
    "    bibtex_str += c\n",
    "print(bibtex_str)"
   ]
  },
  {
   "cell_type": "code",
   "execution_count": 9,
   "metadata": {
    "collapsed": false,
    "deletable": true,
    "editable": true
   },
   "outputs": [],
   "source": [
    "bib_database = bibtexparser.loads(bibtex_str)"
   ]
  },
  {
   "cell_type": "code",
   "execution_count": 10,
   "metadata": {
    "collapsed": false,
    "deletable": true,
    "editable": true
   },
   "outputs": [
    {
     "name": "stdout",
     "output_type": "stream",
     "text": [
      "High density 3D printed microfluidic valves, pumps, and multiplexers\n",
      "Optical approach to resin formulation for 3D printed microfluidics\n"
     ]
    }
   ],
   "source": [
    "for entry in bib_database.entries:\n",
    "    try:\n",
    "        print(entry['title'])\n",
    "    except KeyError:\n",
    "        print('>>>', entry)"
   ]
  },
  {
   "cell_type": "code",
   "execution_count": null,
   "metadata": {
    "collapsed": true,
    "deletable": true,
    "editable": true
   },
   "outputs": [],
   "source": []
  },
  {
   "cell_type": "code",
   "execution_count": null,
   "metadata": {
    "collapsed": true,
    "deletable": true,
    "editable": true
   },
   "outputs": [],
   "source": []
  }
 ],
 "metadata": {
  "anaconda-cloud": {},
  "kernelspec": {
   "display_name": "Python [conda root]",
   "language": "python",
   "name": "conda-root-py"
  },
  "language_info": {
   "codemirror_mode": {
    "name": "ipython",
    "version": 3
   },
   "file_extension": ".py",
   "mimetype": "text/x-python",
   "name": "python",
   "nbconvert_exporter": "python",
   "pygments_lexer": "ipython3",
   "version": "3.5.3"
  },
  "toc": {
   "colors": {
    "hover_highlight": "#DAA520",
    "running_highlight": "#FF0000",
    "selected_highlight": "#FFD700"
   },
   "moveMenuLeft": true,
   "nav_menu": {
    "height": "12px",
    "width": "252px"
   },
   "navigate_menu": true,
   "number_sections": true,
   "sideBar": true,
   "threshold": 4,
   "toc_cell": false,
   "toc_section_display": "block",
   "toc_window_display": true,
   "widenNotebook": false
  }
 },
 "nbformat": 4,
 "nbformat_minor": 2
}
